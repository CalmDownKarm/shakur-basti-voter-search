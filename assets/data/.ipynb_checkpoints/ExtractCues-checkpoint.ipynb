{
 "cells": [
  {
   "cell_type": "code",
   "execution_count": 3,
   "metadata": {},
   "outputs": [
    {
     "name": "stdout",
     "output_type": "stream",
     "text": [
      "The autoreload extension is already loaded. To reload it, use:\n",
      "  %reload_ext autoreload\n"
     ]
    }
   ],
   "source": [
    "import spacy\n",
    "import pandas as pd\n",
    "from nltk import ngrams\n",
    "nlp = spacy.load('en_core_web_lg')\n",
    "%load_ext autoreload\n",
    "%autoreload 2\n",
    "from collections import Counter"
   ]
  },
  {
   "cell_type": "code",
   "execution_count": 4,
   "metadata": {},
   "outputs": [],
   "source": [
    "training = pd.read_csv('/home/karmanyaaggarwal/killme/BERTTRAINPREDS.csv', header=None)"
   ]
  },
  {
   "cell_type": "code",
   "execution_count": 5,
   "metadata": {},
   "outputs": [
    {
     "data": {
      "text/html": [
       "<div>\n",
       "<style scoped>\n",
       "    .dataframe tbody tr th:only-of-type {\n",
       "        vertical-align: middle;\n",
       "    }\n",
       "\n",
       "    .dataframe tbody tr th {\n",
       "        vertical-align: top;\n",
       "    }\n",
       "\n",
       "    .dataframe thead th {\n",
       "        text-align: right;\n",
       "    }\n",
       "</style>\n",
       "<table border=\"1\" class=\"dataframe\">\n",
       "  <thead>\n",
       "    <tr style=\"text-align: right;\">\n",
       "      <th></th>\n",
       "      <th>0</th>\n",
       "      <th>1</th>\n",
       "      <th>2</th>\n",
       "    </tr>\n",
       "  </thead>\n",
       "  <tbody>\n",
       "    <tr>\n",
       "      <td>0</td>\n",
       "      <td>1.0</td>\n",
       "      <td>RT Been sick for a month with flu, now it is i...</td>\n",
       "      <td>True</td>\n",
       "    </tr>\n",
       "    <tr>\n",
       "      <td>1</td>\n",
       "      <td>1.0</td>\n",
       "      <td>If the only reason my dad is making me get a f...</td>\n",
       "      <td>True</td>\n",
       "    </tr>\n",
       "    <tr>\n",
       "      <td>2</td>\n",
       "      <td>1.0</td>\n",
       "      <td>orange hiC matilda is on. big furniture moved ...</td>\n",
       "      <td>True</td>\n",
       "    </tr>\n",
       "    <tr>\n",
       "      <td>3</td>\n",
       "      <td>1.0</td>\n",
       "      <td>But I think my flu shot gave me the flu.</td>\n",
       "      <td>True</td>\n",
       "    </tr>\n",
       "    <tr>\n",
       "      <td>4</td>\n",
       "      <td>1.0</td>\n",
       "      <td>' So I Got The Flu Shot , Now i am Getting Sic...</td>\n",
       "      <td>True</td>\n",
       "    </tr>\n",
       "  </tbody>\n",
       "</table>\n",
       "</div>"
      ],
      "text/plain": [
       "     0                                                  1     2\n",
       "0  1.0  RT Been sick for a month with flu, now it is i...  True\n",
       "1  1.0  If the only reason my dad is making me get a f...  True\n",
       "2  1.0  orange hiC matilda is on. big furniture moved ...  True\n",
       "3  1.0           But I think my flu shot gave me the flu.  True\n",
       "4  1.0  ' So I Got The Flu Shot , Now i am Getting Sic...  True"
      ]
     },
     "execution_count": 5,
     "metadata": {},
     "output_type": "execute_result"
    }
   ],
   "source": [
    "training.head()"
   ]
  },
  {
   "cell_type": "code",
   "execution_count": 6,
   "metadata": {},
   "outputs": [],
   "source": [
    "training.columns = ['true_labels', 'Phrase', 'pred_labels']"
   ]
  },
  {
   "cell_type": "code",
   "execution_count": 8,
   "metadata": {},
   "outputs": [],
   "source": [
    "maps = {True: 1, False: 0}\n",
    "training['pred_labels'] = training['pred_labels'].map(maps)"
   ]
  },
  {
   "cell_type": "code",
   "execution_count": 9,
   "metadata": {},
   "outputs": [
    {
     "data": {
      "text/html": [
       "<div>\n",
       "<style scoped>\n",
       "    .dataframe tbody tr th:only-of-type {\n",
       "        vertical-align: middle;\n",
       "    }\n",
       "\n",
       "    .dataframe tbody tr th {\n",
       "        vertical-align: top;\n",
       "    }\n",
       "\n",
       "    .dataframe thead th {\n",
       "        text-align: right;\n",
       "    }\n",
       "</style>\n",
       "<table border=\"1\" class=\"dataframe\">\n",
       "  <thead>\n",
       "    <tr style=\"text-align: right;\">\n",
       "      <th></th>\n",
       "      <th>true_labels</th>\n",
       "      <th>Phrase</th>\n",
       "      <th>pred_labels</th>\n",
       "    </tr>\n",
       "  </thead>\n",
       "  <tbody>\n",
       "    <tr>\n",
       "      <td>0</td>\n",
       "      <td>1.0</td>\n",
       "      <td>RT Been sick for a month with flu, now it is i...</td>\n",
       "      <td>1</td>\n",
       "    </tr>\n",
       "    <tr>\n",
       "      <td>1</td>\n",
       "      <td>1.0</td>\n",
       "      <td>If the only reason my dad is making me get a f...</td>\n",
       "      <td>1</td>\n",
       "    </tr>\n",
       "    <tr>\n",
       "      <td>2</td>\n",
       "      <td>1.0</td>\n",
       "      <td>orange hiC matilda is on. big furniture moved ...</td>\n",
       "      <td>1</td>\n",
       "    </tr>\n",
       "    <tr>\n",
       "      <td>3</td>\n",
       "      <td>1.0</td>\n",
       "      <td>But I think my flu shot gave me the flu.</td>\n",
       "      <td>1</td>\n",
       "    </tr>\n",
       "    <tr>\n",
       "      <td>4</td>\n",
       "      <td>1.0</td>\n",
       "      <td>' So I Got The Flu Shot , Now i am Getting Sic...</td>\n",
       "      <td>1</td>\n",
       "    </tr>\n",
       "  </tbody>\n",
       "</table>\n",
       "</div>"
      ],
      "text/plain": [
       "   true_labels                                             Phrase  pred_labels\n",
       "0          1.0  RT Been sick for a month with flu, now it is i...            1\n",
       "1          1.0  If the only reason my dad is making me get a f...            1\n",
       "2          1.0  orange hiC matilda is on. big furniture moved ...            1\n",
       "3          1.0           But I think my flu shot gave me the flu.            1\n",
       "4          1.0  ' So I Got The Flu Shot , Now i am Getting Sic...            1"
      ]
     },
     "execution_count": 9,
     "metadata": {},
     "output_type": "execute_result"
    }
   ],
   "source": [
    "training.head()"
   ]
  },
  {
   "cell_type": "code",
   "execution_count": 10,
   "metadata": {},
   "outputs": [],
   "source": [
    "def get_cues(df, colname, classes, prod=False):\n",
    "    '''colname is name of the text colum, classes is name of labels'''\n",
    "    if prod:\n",
    "        df = df[df['pred_labels'] == df['true_labels']]\n",
    "    df['tokens'] = list(nlp.pipe(df['Phrase']))\n",
    "    df['tokens'] = df['tokens'].apply(lambda x: [token.lower_ for token in x if token.is_stop==False] )\n",
    "#     df['tokens'] = df['tokens'].apply(lambda x: fix_tokens([token for token in x if token not in new_stop]))\n",
    "    df['bigrams'] = df.tokens.apply(lambda x: list(ngrams(x,2)))\n",
    "    df['trigrams'] = df.tokens.apply(lambda x: list(ngrams(x,3)))\n",
    "    df['bigrams'] = df.bigrams.apply(lambda x: [' '.join(k) for k in x])\n",
    "    df['trigrams'] = df.trigrams.apply(lambda x: [' '.join(k) for k in x])\n",
    "    counters = {}\n",
    "    for _class, group in df.groupby(classes):\n",
    "        counters[_class] = Counter()\n",
    "        for ngram in ['tokens', 'bigrams', 'trigrams']:\n",
    "            group[ngram].apply(lambda x: counters[_class].update(set(x)))\n",
    "    all_cues = pd.DataFrame(counters)\n",
    "#     for key, val in df.groupby(classes).count()[colname].to_dict().items():\n",
    "#         all_cues[key] /= val\n",
    "    common_cues = all_cues.dropna()\n",
    "    pos_cues = all_cues[all_cues[1.0].notnull() & all_cues[0.0].isnull()]\n",
    "    neg_cues = all_cues[all_cues[0.0].notnull() & all_cues[1.0].isnull()]\n",
    "#     t_cues = all_cues[all_cues['Trolling'].notnull() & all_cues['Normal'].isnull() & all_cues['Hatespeech'].isnull()]\n",
    "#     n_cues = all_cues[all_cues['Normal'].notnull() & all_cues['Trolling'].isnull() & all_cues['Hatespeech'].isnull()]\n",
    "#     return all_cues, h_cues, t_cues, n_cues\n",
    "    return pos_cues, neg_cues"
   ]
  },
  {
   "cell_type": "code",
   "execution_count": 11,
   "metadata": {},
   "outputs": [],
   "source": [
    "def get_prods(df):\n",
    "    prods = []\n",
    "    for app, prod, class_ in zip(get_cues(df, 'Phrase', 'true_labels'), get_cues(df, 'Phrase', 'pred_labels', prod=True), [1.0, 0.0]):\n",
    "        prod = pd.concat([app, prod], axis=1, sort=False)\n",
    "        prod.dropna(axis=1, how='all', inplace=True)\n",
    "        prod.columns = ['Applicability', 'Productivity']\n",
    "        prod.dropna(axis=0, inplace=True, subset=['Applicability', 'Productivity'])\n",
    "        prod['Productivity'] /= prod['Applicability']\n",
    "        prod['Class'] = class_\n",
    "        prod['Coverage'] = prod['Applicability']/prod.shape[0]\n",
    "        prod['Strength of Cue'] = prod['Coverage'] * prod['Productivity']\n",
    "        prods.append(prod)\n",
    "    return pd.concat(prods, sort=False)"
   ]
  },
  {
   "cell_type": "code",
   "execution_count": 12,
   "metadata": {},
   "outputs": [
    {
     "name": "stderr",
     "output_type": "stream",
     "text": [
      "/home/karmanyaaggarwal/anaconda3/envs/analytics/lib/python3.7/site-packages/ipykernel_launcher.py:5: SettingWithCopyWarning: \n",
      "A value is trying to be set on a copy of a slice from a DataFrame.\n",
      "Try using .loc[row_indexer,col_indexer] = value instead\n",
      "\n",
      "See the caveats in the documentation: http://pandas.pydata.org/pandas-docs/stable/user_guide/indexing.html#returning-a-view-versus-a-copy\n",
      "  \"\"\"\n",
      "/home/karmanyaaggarwal/anaconda3/envs/analytics/lib/python3.7/site-packages/ipykernel_launcher.py:6: SettingWithCopyWarning: \n",
      "A value is trying to be set on a copy of a slice from a DataFrame.\n",
      "Try using .loc[row_indexer,col_indexer] = value instead\n",
      "\n",
      "See the caveats in the documentation: http://pandas.pydata.org/pandas-docs/stable/user_guide/indexing.html#returning-a-view-versus-a-copy\n",
      "  \n",
      "/home/karmanyaaggarwal/anaconda3/envs/analytics/lib/python3.7/site-packages/ipykernel_launcher.py:8: SettingWithCopyWarning: \n",
      "A value is trying to be set on a copy of a slice from a DataFrame.\n",
      "Try using .loc[row_indexer,col_indexer] = value instead\n",
      "\n",
      "See the caveats in the documentation: http://pandas.pydata.org/pandas-docs/stable/user_guide/indexing.html#returning-a-view-versus-a-copy\n",
      "  \n",
      "/home/karmanyaaggarwal/anaconda3/envs/analytics/lib/python3.7/site-packages/ipykernel_launcher.py:9: SettingWithCopyWarning: \n",
      "A value is trying to be set on a copy of a slice from a DataFrame.\n",
      "Try using .loc[row_indexer,col_indexer] = value instead\n",
      "\n",
      "See the caveats in the documentation: http://pandas.pydata.org/pandas-docs/stable/user_guide/indexing.html#returning-a-view-versus-a-copy\n",
      "  if __name__ == '__main__':\n",
      "/home/karmanyaaggarwal/anaconda3/envs/analytics/lib/python3.7/site-packages/ipykernel_launcher.py:10: SettingWithCopyWarning: \n",
      "A value is trying to be set on a copy of a slice from a DataFrame.\n",
      "Try using .loc[row_indexer,col_indexer] = value instead\n",
      "\n",
      "See the caveats in the documentation: http://pandas.pydata.org/pandas-docs/stable/user_guide/indexing.html#returning-a-view-versus-a-copy\n",
      "  # Remove the CWD from sys.path while we load stuff.\n",
      "/home/karmanyaaggarwal/anaconda3/envs/analytics/lib/python3.7/site-packages/ipykernel_launcher.py:11: SettingWithCopyWarning: \n",
      "A value is trying to be set on a copy of a slice from a DataFrame.\n",
      "Try using .loc[row_indexer,col_indexer] = value instead\n",
      "\n",
      "See the caveats in the documentation: http://pandas.pydata.org/pandas-docs/stable/user_guide/indexing.html#returning-a-view-versus-a-copy\n",
      "  # This is added back by InteractiveShellApp.init_path()\n"
     ]
    }
   ],
   "source": [
    "training_cues = get_prods(training)"
   ]
  },
  {
   "cell_type": "code",
   "execution_count": 13,
   "metadata": {},
   "outputs": [
    {
     "data": {
      "text/html": [
       "<div>\n",
       "<style scoped>\n",
       "    .dataframe tbody tr th:only-of-type {\n",
       "        vertical-align: middle;\n",
       "    }\n",
       "\n",
       "    .dataframe tbody tr th {\n",
       "        vertical-align: top;\n",
       "    }\n",
       "\n",
       "    .dataframe thead th {\n",
       "        text-align: right;\n",
       "    }\n",
       "</style>\n",
       "<table border=\"1\" class=\"dataframe\">\n",
       "  <thead>\n",
       "    <tr style=\"text-align: right;\">\n",
       "      <th></th>\n",
       "      <th>Applicability</th>\n",
       "      <th>Productivity</th>\n",
       "      <th>Class</th>\n",
       "      <th>Coverage</th>\n",
       "      <th>Strength of Cue</th>\n",
       "    </tr>\n",
       "  </thead>\n",
       "  <tbody>\n",
       "    <tr>\n",
       "      <td>vaccines</td>\n",
       "      <td>35.0</td>\n",
       "      <td>0.942857</td>\n",
       "      <td>0.0</td>\n",
       "      <td>0.004231</td>\n",
       "      <td>0.003989</td>\n",
       "    </tr>\n",
       "    <tr>\n",
       "      <td>flu vaccines</td>\n",
       "      <td>24.0</td>\n",
       "      <td>0.958333</td>\n",
       "      <td>0.0</td>\n",
       "      <td>0.002901</td>\n",
       "      <td>0.002780</td>\n",
       "    </tr>\n",
       "    <tr>\n",
       "      <td>effective</td>\n",
       "      <td>22.0</td>\n",
       "      <td>1.000000</td>\n",
       "      <td>0.0</td>\n",
       "      <td>0.002659</td>\n",
       "      <td>0.002659</td>\n",
       "    </tr>\n",
       "    <tr>\n",
       "      <td>news</td>\n",
       "      <td>21.0</td>\n",
       "      <td>0.952381</td>\n",
       "      <td>0.0</td>\n",
       "      <td>0.002538</td>\n",
       "      <td>0.002418</td>\n",
       "    </tr>\n",
       "    <tr>\n",
       "      <td>getting flu .</td>\n",
       "      <td>7.0</td>\n",
       "      <td>1.000000</td>\n",
       "      <td>1.0</td>\n",
       "      <td>0.002153</td>\n",
       "      <td>0.002153</td>\n",
       "    </tr>\n",
       "    <tr>\n",
       "      <td>...</td>\n",
       "      <td>...</td>\n",
       "      <td>...</td>\n",
       "      <td>...</td>\n",
       "      <td>...</td>\n",
       "      <td>...</td>\n",
       "    </tr>\n",
       "    <tr>\n",
       "      <td>complications especially</td>\n",
       "      <td>1.0</td>\n",
       "      <td>1.000000</td>\n",
       "      <td>0.0</td>\n",
       "      <td>0.000121</td>\n",
       "      <td>0.000121</td>\n",
       "    </tr>\n",
       "    <tr>\n",
       "      <td>require</td>\n",
       "      <td>1.0</td>\n",
       "      <td>1.000000</td>\n",
       "      <td>0.0</td>\n",
       "      <td>0.000121</td>\n",
       "      <td>0.000121</td>\n",
       "    </tr>\n",
       "    <tr>\n",
       "      <td>0b3f45b2</td>\n",
       "      <td>1.0</td>\n",
       "      <td>1.000000</td>\n",
       "      <td>0.0</td>\n",
       "      <td>0.000121</td>\n",
       "      <td>0.000121</td>\n",
       "    </tr>\n",
       "    <tr>\n",
       "      <td>children struck</td>\n",
       "      <td>1.0</td>\n",
       "      <td>1.000000</td>\n",
       "      <td>0.0</td>\n",
       "      <td>0.000121</td>\n",
       "      <td>0.000121</td>\n",
       "    </tr>\n",
       "    <tr>\n",
       "      <td>job</td>\n",
       "      <td>3.0</td>\n",
       "      <td>0.333333</td>\n",
       "      <td>0.0</td>\n",
       "      <td>0.000363</td>\n",
       "      <td>0.000121</td>\n",
       "    </tr>\n",
       "  </tbody>\n",
       "</table>\n",
       "<p>11524 rows × 5 columns</p>\n",
       "</div>"
      ],
      "text/plain": [
       "                          Applicability  Productivity  Class  Coverage  \\\n",
       "vaccines                           35.0      0.942857    0.0  0.004231   \n",
       "flu vaccines                       24.0      0.958333    0.0  0.002901   \n",
       "effective                          22.0      1.000000    0.0  0.002659   \n",
       "news                               21.0      0.952381    0.0  0.002538   \n",
       "getting flu .                       7.0      1.000000    1.0  0.002153   \n",
       "...                                 ...           ...    ...       ...   \n",
       "complications especially            1.0      1.000000    0.0  0.000121   \n",
       "require                             1.0      1.000000    0.0  0.000121   \n",
       "0b3f45b2                            1.0      1.000000    0.0  0.000121   \n",
       "children struck                     1.0      1.000000    0.0  0.000121   \n",
       "job                                 3.0      0.333333    0.0  0.000363   \n",
       "\n",
       "                          Strength of Cue  \n",
       "vaccines                         0.003989  \n",
       "flu vaccines                     0.002780  \n",
       "effective                        0.002659  \n",
       "news                             0.002418  \n",
       "getting flu .                    0.002153  \n",
       "...                                   ...  \n",
       "complications especially         0.000121  \n",
       "require                          0.000121  \n",
       "0b3f45b2                         0.000121  \n",
       "children struck                  0.000121  \n",
       "job                              0.000121  \n",
       "\n",
       "[11524 rows x 5 columns]"
      ]
     },
     "execution_count": 13,
     "metadata": {},
     "output_type": "execute_result"
    }
   ],
   "source": [
    "training_cues.sort_values('Strength of Cue', ascending=False)"
   ]
  },
  {
   "cell_type": "code",
   "execution_count": 14,
   "metadata": {},
   "outputs": [],
   "source": [
    "mkdir ../ECIR"
   ]
  },
  {
   "cell_type": "code",
   "execution_count": 14,
   "metadata": {},
   "outputs": [],
   "source": [
    "training_cues.reset_index().to_csv('../ECIR/BERT_TRAINING_CUES.csv', index=None)"
   ]
  },
  {
   "cell_type": "code",
   "execution_count": 15,
   "metadata": {},
   "outputs": [],
   "source": [
    "validation = pd.read_csv('/home/karmanyaaggarwal/killme/BERTVALIDATIONPREDS.csv', header=None)"
   ]
  },
  {
   "cell_type": "code",
   "execution_count": 16,
   "metadata": {},
   "outputs": [
    {
     "data": {
      "text/html": [
       "<div>\n",
       "<style scoped>\n",
       "    .dataframe tbody tr th:only-of-type {\n",
       "        vertical-align: middle;\n",
       "    }\n",
       "\n",
       "    .dataframe tbody tr th {\n",
       "        vertical-align: top;\n",
       "    }\n",
       "\n",
       "    .dataframe thead th {\n",
       "        text-align: right;\n",
       "    }\n",
       "</style>\n",
       "<table border=\"1\" class=\"dataframe\">\n",
       "  <thead>\n",
       "    <tr style=\"text-align: right;\">\n",
       "      <th></th>\n",
       "      <th>0</th>\n",
       "      <th>1</th>\n",
       "      <th>2</th>\n",
       "    </tr>\n",
       "  </thead>\n",
       "  <tbody>\n",
       "    <tr>\n",
       "      <td>0</td>\n",
       "      <td>1.0</td>\n",
       "      <td>RT Been sick for a month with flu, now it is i...</td>\n",
       "      <td>True</td>\n",
       "    </tr>\n",
       "    <tr>\n",
       "      <td>1</td>\n",
       "      <td>1.0</td>\n",
       "      <td>If the only reason my dad is making me get a f...</td>\n",
       "      <td>True</td>\n",
       "    </tr>\n",
       "    <tr>\n",
       "      <td>2</td>\n",
       "      <td>1.0</td>\n",
       "      <td>orange hiC matilda is on. big furniture moved ...</td>\n",
       "      <td>True</td>\n",
       "    </tr>\n",
       "    <tr>\n",
       "      <td>3</td>\n",
       "      <td>1.0</td>\n",
       "      <td>But I think my flu shot gave me the flu.</td>\n",
       "      <td>True</td>\n",
       "    </tr>\n",
       "    <tr>\n",
       "      <td>4</td>\n",
       "      <td>1.0</td>\n",
       "      <td>' So I Got The Flu Shot , Now i am Getting Sic...</td>\n",
       "      <td>True</td>\n",
       "    </tr>\n",
       "  </tbody>\n",
       "</table>\n",
       "</div>"
      ],
      "text/plain": [
       "     0                                                  1     2\n",
       "0  1.0  RT Been sick for a month with flu, now it is i...  True\n",
       "1  1.0  If the only reason my dad is making me get a f...  True\n",
       "2  1.0  orange hiC matilda is on. big furniture moved ...  True\n",
       "3  1.0           But I think my flu shot gave me the flu.  True\n",
       "4  1.0  ' So I Got The Flu Shot , Now i am Getting Sic...  True"
      ]
     },
     "execution_count": 16,
     "metadata": {},
     "output_type": "execute_result"
    }
   ],
   "source": [
    "validation.head()"
   ]
  },
  {
   "cell_type": "code",
   "execution_count": 17,
   "metadata": {},
   "outputs": [],
   "source": [
    "validation.columns = ['true_labels', 'Phrase', 'pred_labels']"
   ]
  },
  {
   "cell_type": "code",
   "execution_count": 18,
   "metadata": {},
   "outputs": [],
   "source": [
    "validation['pred_labels'] = validation['pred_labels'].map(maps)"
   ]
  },
  {
   "cell_type": "code",
   "execution_count": 19,
   "metadata": {},
   "outputs": [
    {
     "name": "stderr",
     "output_type": "stream",
     "text": [
      "/home/karmanyaaggarwal/anaconda3/envs/analytics/lib/python3.7/site-packages/ipykernel_launcher.py:5: SettingWithCopyWarning: \n",
      "A value is trying to be set on a copy of a slice from a DataFrame.\n",
      "Try using .loc[row_indexer,col_indexer] = value instead\n",
      "\n",
      "See the caveats in the documentation: http://pandas.pydata.org/pandas-docs/stable/user_guide/indexing.html#returning-a-view-versus-a-copy\n",
      "  \"\"\"\n",
      "/home/karmanyaaggarwal/anaconda3/envs/analytics/lib/python3.7/site-packages/ipykernel_launcher.py:6: SettingWithCopyWarning: \n",
      "A value is trying to be set on a copy of a slice from a DataFrame.\n",
      "Try using .loc[row_indexer,col_indexer] = value instead\n",
      "\n",
      "See the caveats in the documentation: http://pandas.pydata.org/pandas-docs/stable/user_guide/indexing.html#returning-a-view-versus-a-copy\n",
      "  \n",
      "/home/karmanyaaggarwal/anaconda3/envs/analytics/lib/python3.7/site-packages/ipykernel_launcher.py:8: SettingWithCopyWarning: \n",
      "A value is trying to be set on a copy of a slice from a DataFrame.\n",
      "Try using .loc[row_indexer,col_indexer] = value instead\n",
      "\n",
      "See the caveats in the documentation: http://pandas.pydata.org/pandas-docs/stable/user_guide/indexing.html#returning-a-view-versus-a-copy\n",
      "  \n",
      "/home/karmanyaaggarwal/anaconda3/envs/analytics/lib/python3.7/site-packages/ipykernel_launcher.py:9: SettingWithCopyWarning: \n",
      "A value is trying to be set on a copy of a slice from a DataFrame.\n",
      "Try using .loc[row_indexer,col_indexer] = value instead\n",
      "\n",
      "See the caveats in the documentation: http://pandas.pydata.org/pandas-docs/stable/user_guide/indexing.html#returning-a-view-versus-a-copy\n",
      "  if __name__ == '__main__':\n",
      "/home/karmanyaaggarwal/anaconda3/envs/analytics/lib/python3.7/site-packages/ipykernel_launcher.py:10: SettingWithCopyWarning: \n",
      "A value is trying to be set on a copy of a slice from a DataFrame.\n",
      "Try using .loc[row_indexer,col_indexer] = value instead\n",
      "\n",
      "See the caveats in the documentation: http://pandas.pydata.org/pandas-docs/stable/user_guide/indexing.html#returning-a-view-versus-a-copy\n",
      "  # Remove the CWD from sys.path while we load stuff.\n",
      "/home/karmanyaaggarwal/anaconda3/envs/analytics/lib/python3.7/site-packages/ipykernel_launcher.py:11: SettingWithCopyWarning: \n",
      "A value is trying to be set on a copy of a slice from a DataFrame.\n",
      "Try using .loc[row_indexer,col_indexer] = value instead\n",
      "\n",
      "See the caveats in the documentation: http://pandas.pydata.org/pandas-docs/stable/user_guide/indexing.html#returning-a-view-versus-a-copy\n",
      "  # This is added back by InteractiveShellApp.init_path()\n"
     ]
    }
   ],
   "source": [
    "validation_cues = get_prods(validation)"
   ]
  },
  {
   "cell_type": "code",
   "execution_count": 20,
   "metadata": {},
   "outputs": [],
   "source": [
    "validation_cues.reset_index().to_csv('../ECIR/BERT_VALIDATION_CUES.csv')"
   ]
  },
  {
   "cell_type": "code",
   "execution_count": 41,
   "metadata": {},
   "outputs": [],
   "source": [
    "def remove_half_words(phrases):\n",
    "    import random\n",
    "    nope = []\n",
    "    for p in phrases:\n",
    "        no_elements_to_delete = len(p)*0.5\n",
    "        no_elements_to_keep = len(p) - no_elements_to_delete\n",
    "        q = set(random.sample(p, int(no_elements_to_keep)))\n",
    "        p = [i for i in p if i in q]\n",
    "        nope.append(p)\n",
    "    phrases = [\" \".join((t)) for t in nope]\n",
    "    return phrases\n",
    "def randomize_words(phrases):\n",
    "    import random\n",
    "    [random.shuffle(s) for s in phrases]\n",
    "    phrases = [\" \".join((t)) for t in phrases]\n",
    "    return phrases\n",
    "def randomize_labels(labels):\n",
    "    import random\n",
    "    return random.shuffle(labels)"
   ]
  },
  {
   "cell_type": "code",
   "execution_count": 29,
   "metadata": {},
   "outputs": [],
   "source": [
    "phrases = validation['tokens']"
   ]
  },
  {
   "cell_type": "code",
   "execution_count": 31,
   "metadata": {},
   "outputs": [],
   "source": [
    "validation['half'] = remove_half_words(phrases)"
   ]
  },
  {
   "cell_type": "code",
   "execution_count": 32,
   "metadata": {},
   "outputs": [
    {
     "data": {
      "text/html": [
       "<div>\n",
       "<style scoped>\n",
       "    .dataframe tbody tr th:only-of-type {\n",
       "        vertical-align: middle;\n",
       "    }\n",
       "\n",
       "    .dataframe tbody tr th {\n",
       "        vertical-align: top;\n",
       "    }\n",
       "\n",
       "    .dataframe thead th {\n",
       "        text-align: right;\n",
       "    }\n",
       "</style>\n",
       "<table border=\"1\" class=\"dataframe\">\n",
       "  <thead>\n",
       "    <tr style=\"text-align: right;\">\n",
       "      <th></th>\n",
       "      <th>true_labels</th>\n",
       "      <th>Phrase</th>\n",
       "      <th>pred_labels</th>\n",
       "      <th>tokens</th>\n",
       "      <th>bigrams</th>\n",
       "      <th>trigrams</th>\n",
       "      <th>half</th>\n",
       "    </tr>\n",
       "  </thead>\n",
       "  <tbody>\n",
       "    <tr>\n",
       "      <td>0</td>\n",
       "      <td>1.0</td>\n",
       "      <td>Does anyone else spas there arm around for the...</td>\n",
       "      <td>1</td>\n",
       "      <td>[spas, arm, rest, day, flu, shot, ?, 1arm]</td>\n",
       "      <td>[spas arm, arm rest, rest day, day flu, flu sh...</td>\n",
       "      <td>[spas arm rest, arm rest day, rest day flu, da...</td>\n",
       "      <td>arm flu ? 1arm</td>\n",
       "    </tr>\n",
       "    <tr>\n",
       "      <td>1</td>\n",
       "      <td>1.0</td>\n",
       "      <td>It is definitely time for the flu shot</td>\n",
       "      <td>1</td>\n",
       "      <td>[definitely, time, flu, shot]</td>\n",
       "      <td>[definitely time, time flu, flu shot]</td>\n",
       "      <td>[definitely time flu, time flu shot]</td>\n",
       "      <td>definitely time</td>\n",
       "    </tr>\n",
       "    <tr>\n",
       "      <td>2</td>\n",
       "      <td>1.0</td>\n",
       "      <td>Busy, busy, busy....work, flu shot for Hunter ...</td>\n",
       "      <td>1</td>\n",
       "      <td>[busy, ,, busy, ,, busy, ...., work, ,, flu, s...</td>\n",
       "      <td>[busy ,, , busy, busy ,, , busy, busy ...., .....</td>\n",
       "      <td>[busy , busy, , busy ,, busy , busy, , busy .....</td>\n",
       "      <td>, , .... work , flu softball practice . mom wo...</td>\n",
       "    </tr>\n",
       "    <tr>\n",
       "      <td>3</td>\n",
       "      <td>1.0</td>\n",
       "      <td>Taking baby daughter for flu shot today. Not g...</td>\n",
       "      <td>1</td>\n",
       "      <td>[taking, baby, daughter, flu, shot, today, ., ...</td>\n",
       "      <td>[taking baby, baby daughter, daughter flu, flu...</td>\n",
       "      <td>[taking baby daughter, baby daughter flu, daug...</td>\n",
       "      <td>taking baby . fun . got .</td>\n",
       "    </tr>\n",
       "    <tr>\n",
       "      <td>4</td>\n",
       "      <td>1.0</td>\n",
       "      <td>Holy mother the flu shots this year hurt! Stil...</td>\n",
       "      <td>1</td>\n",
       "      <td>[holy, mother, flu, shots, year, hurt, !, wort...</td>\n",
       "      <td>[holy mother, mother flu, flu shots, shots yea...</td>\n",
       "      <td>[holy mother flu, mother flu shots, flu shots ...</td>\n",
       "      <td>mother flu shots year hurt sore flu</td>\n",
       "    </tr>\n",
       "  </tbody>\n",
       "</table>\n",
       "</div>"
      ],
      "text/plain": [
       "   true_labels                                             Phrase  \\\n",
       "0          1.0  Does anyone else spas there arm around for the...   \n",
       "1          1.0            It is definitely time for the flu shot    \n",
       "2          1.0  Busy, busy, busy....work, flu shot for Hunter ...   \n",
       "3          1.0  Taking baby daughter for flu shot today. Not g...   \n",
       "4          1.0  Holy mother the flu shots this year hurt! Stil...   \n",
       "\n",
       "   pred_labels                                             tokens  \\\n",
       "0            1         [spas, arm, rest, day, flu, shot, ?, 1arm]   \n",
       "1            1                      [definitely, time, flu, shot]   \n",
       "2            1  [busy, ,, busy, ,, busy, ...., work, ,, flu, s...   \n",
       "3            1  [taking, baby, daughter, flu, shot, today, ., ...   \n",
       "4            1  [holy, mother, flu, shots, year, hurt, !, wort...   \n",
       "\n",
       "                                             bigrams  \\\n",
       "0  [spas arm, arm rest, rest day, day flu, flu sh...   \n",
       "1              [definitely time, time flu, flu shot]   \n",
       "2  [busy ,, , busy, busy ,, , busy, busy ...., .....   \n",
       "3  [taking baby, baby daughter, daughter flu, flu...   \n",
       "4  [holy mother, mother flu, flu shots, shots yea...   \n",
       "\n",
       "                                            trigrams  \\\n",
       "0  [spas arm rest, arm rest day, rest day flu, da...   \n",
       "1               [definitely time flu, time flu shot]   \n",
       "2  [busy , busy, , busy ,, busy , busy, , busy .....   \n",
       "3  [taking baby daughter, baby daughter flu, daug...   \n",
       "4  [holy mother flu, mother flu shots, flu shots ...   \n",
       "\n",
       "                                                half  \n",
       "0                                     arm flu ? 1arm  \n",
       "1                                    definitely time  \n",
       "2  , , .... work , flu softball practice . mom wo...  \n",
       "3                          taking baby . fun . got .  \n",
       "4                mother flu shots year hurt sore flu  "
      ]
     },
     "execution_count": 32,
     "metadata": {},
     "output_type": "execute_result"
    }
   ],
   "source": [
    "validation.head()"
   ]
  },
  {
   "cell_type": "code",
   "execution_count": 35,
   "metadata": {},
   "outputs": [],
   "source": [
    "validation[['true_labels', 'half']].to_csv('../ECIR/Validation_Half_words.csv', header=None)"
   ]
  },
  {
   "cell_type": "code",
   "execution_count": 34,
   "metadata": {},
   "outputs": [],
   "source": [
    "validation['scramble'] = randomize_words(phrases) "
   ]
  },
  {
   "cell_type": "code",
   "execution_count": 36,
   "metadata": {},
   "outputs": [],
   "source": [
    "validation[['true_labels', 'scramble']].to_csv('../ECIR/Validation_scramble.csv', header=None)"
   ]
  },
  {
   "cell_type": "code",
   "execution_count": 39,
   "metadata": {},
   "outputs": [],
   "source": [
    "labels = training.true_labels"
   ]
  },
  {
   "cell_type": "code",
   "execution_count": 42,
   "metadata": {},
   "outputs": [
    {
     "name": "stderr",
     "output_type": "stream",
     "text": [
      "/home/karmanyaaggarwal/anaconda3/envs/analytics/lib/python3.7/random.py:278: SettingWithCopyWarning: \n",
      "A value is trying to be set on a copy of a slice from a DataFrame\n",
      "\n",
      "See the caveats in the documentation: http://pandas.pydata.org/pandas-docs/stable/user_guide/indexing.html#returning-a-view-versus-a-copy\n",
      "  x[i], x[j] = x[j], x[i]\n"
     ]
    }
   ],
   "source": [
    "training['new_true_labels'] = randomize_labels(labels)"
   ]
  },
  {
   "cell_type": "code",
   "execution_count": 46,
   "metadata": {},
   "outputs": [
    {
     "name": "stderr",
     "output_type": "stream",
     "text": [
      "/home/karmanyaaggarwal/anaconda3/envs/analytics/lib/python3.7/site-packages/ipykernel_launcher.py:1: SettingWithCopyWarning: \n",
      "A value is trying to be set on a copy of a slice from a DataFrame\n",
      "\n",
      "See the caveats in the documentation: http://pandas.pydata.org/pandas-docs/stable/user_guide/indexing.html#returning-a-view-versus-a-copy\n",
      "  \"\"\"Entry point for launching an IPython kernel.\n"
     ]
    }
   ],
   "source": [
    "pd.np.random.shuffle(labels)"
   ]
  },
  {
   "cell_type": "code",
   "execution_count": 59,
   "metadata": {},
   "outputs": [],
   "source": [
    "labels = training.true_labels.to_numpy().copy()"
   ]
  },
  {
   "cell_type": "code",
   "execution_count": 51,
   "metadata": {},
   "outputs": [],
   "source": [
    "validation_labels = validation.true_labels.to_numpy()"
   ]
  },
  {
   "cell_type": "code",
   "execution_count": 60,
   "metadata": {},
   "outputs": [],
   "source": [
    "pd.np.random.shuffle(labels)"
   ]
  },
  {
   "cell_type": "code",
   "execution_count": 61,
   "metadata": {},
   "outputs": [
    {
     "data": {
      "text/plain": [
       "array([0., 1., 0., ..., 0., 1., 1.])"
      ]
     },
     "execution_count": 61,
     "metadata": {},
     "output_type": "execute_result"
    }
   ],
   "source": [
    "labels"
   ]
  },
  {
   "cell_type": "code",
   "execution_count": 62,
   "metadata": {},
   "outputs": [
    {
     "data": {
      "text/plain": [
       "0       False\n",
       "1        True\n",
       "2        True\n",
       "3        True\n",
       "4       False\n",
       "        ...  \n",
       "7383    False\n",
       "7384     True\n",
       "7385     True\n",
       "7386    False\n",
       "7387     True\n",
       "Name: true_labels, Length: 7388, dtype: bool"
      ]
     },
     "execution_count": 62,
     "metadata": {},
     "output_type": "execute_result"
    }
   ],
   "source": [
    "labels == training.true_labels"
   ]
  },
  {
   "cell_type": "code",
   "execution_count": 63,
   "metadata": {},
   "outputs": [],
   "source": [
    "training.true_labels = labels"
   ]
  },
  {
   "cell_type": "code",
   "execution_count": 64,
   "metadata": {},
   "outputs": [
    {
     "data": {
      "text/html": [
       "<div>\n",
       "<style scoped>\n",
       "    .dataframe tbody tr th:only-of-type {\n",
       "        vertical-align: middle;\n",
       "    }\n",
       "\n",
       "    .dataframe tbody tr th {\n",
       "        vertical-align: top;\n",
       "    }\n",
       "\n",
       "    .dataframe thead th {\n",
       "        text-align: right;\n",
       "    }\n",
       "</style>\n",
       "<table border=\"1\" class=\"dataframe\">\n",
       "  <thead>\n",
       "    <tr style=\"text-align: right;\">\n",
       "      <th></th>\n",
       "      <th>true_labels</th>\n",
       "      <th>Phrase</th>\n",
       "      <th>pred_labels</th>\n",
       "    </tr>\n",
       "  </thead>\n",
       "  <tbody>\n",
       "    <tr>\n",
       "      <td>0</td>\n",
       "      <td>0.0</td>\n",
       "      <td>This is the third or fourth major cold and or ...</td>\n",
       "      <td>1</td>\n",
       "    </tr>\n",
       "    <tr>\n",
       "      <td>1</td>\n",
       "      <td>1.0</td>\n",
       "      <td>Eek, do not understand why people come into wo...</td>\n",
       "      <td>1</td>\n",
       "    </tr>\n",
       "    <tr>\n",
       "      <td>2</td>\n",
       "      <td>0.0</td>\n",
       "      <td>S O to that flu shot I got Monday for making m...</td>\n",
       "      <td>1</td>\n",
       "    </tr>\n",
       "    <tr>\n",
       "      <td>3</td>\n",
       "      <td>0.0</td>\n",
       "      <td>Yes, I got my flu shot about a month ago. I a...</td>\n",
       "      <td>1</td>\n",
       "    </tr>\n",
       "    <tr>\n",
       "      <td>4</td>\n",
       "      <td>1.0</td>\n",
       "      <td>Today ... Flu vaccine for me. Not catching thi...</td>\n",
       "      <td>1</td>\n",
       "    </tr>\n",
       "  </tbody>\n",
       "</table>\n",
       "</div>"
      ],
      "text/plain": [
       "   true_labels                                             Phrase  pred_labels\n",
       "0          0.0  This is the third or fourth major cold and or ...            1\n",
       "1          1.0  Eek, do not understand why people come into wo...            1\n",
       "2          0.0  S O to that flu shot I got Monday for making m...            1\n",
       "3          0.0   Yes, I got my flu shot about a month ago. I a...            1\n",
       "4          1.0  Today ... Flu vaccine for me. Not catching thi...            1"
      ]
     },
     "execution_count": 64,
     "metadata": {},
     "output_type": "execute_result"
    }
   ],
   "source": [
    "training.head()"
   ]
  },
  {
   "cell_type": "code",
   "execution_count": 71,
   "metadata": {},
   "outputs": [],
   "source": [
    "training[['true_labels', 'Phrase']].to_csv('../ECIR/ULMFIT_shuffle_labels_train.csv', header=None, index=None)"
   ]
  },
  {
   "cell_type": "code",
   "execution_count": 66,
   "metadata": {},
   "outputs": [],
   "source": [
    "validation_labels= validation.true_labels.to_numpy().copy()"
   ]
  },
  {
   "cell_type": "code",
   "execution_count": 67,
   "metadata": {},
   "outputs": [],
   "source": [
    "pd.np.random.shuffle(validation_labels)"
   ]
  },
  {
   "cell_type": "code",
   "execution_count": 68,
   "metadata": {},
   "outputs": [],
   "source": [
    "validation['true_labels'] = validation_labels"
   ]
  },
  {
   "cell_type": "code",
   "execution_count": 70,
   "metadata": {},
   "outputs": [],
   "source": [
    "validation[['true_labels', 'Phrase']].to_csv('../ECIR/ULMFIT_shuffle_labels_valid.csv', header=None, index=None)"
   ]
  },
  {
   "cell_type": "code",
   "execution_count": 72,
   "metadata": {},
   "outputs": [
    {
     "name": "stdout",
     "output_type": "stream",
     "text": [
      "ULMFIT_shuffle_labels_train.csv  ULMFIT_VALIDATION_CUES.csv\n",
      "ULMFIT_shuffle_labels_valid.csv  Validation_Half_words.csv\n",
      "ULMFIT_TRAINING_CUES.csv         Validation_scramble.csv\n"
     ]
    }
   ],
   "source": [
    "ls ../ECIR"
   ]
  },
  {
   "cell_type": "code",
   "execution_count": null,
   "metadata": {},
   "outputs": [],
   "source": []
  }
 ],
 "metadata": {
  "kernelspec": {
   "display_name": "Python 3",
   "language": "python",
   "name": "python3"
  },
  "language_info": {
   "codemirror_mode": {
    "name": "ipython",
    "version": 3
   },
   "file_extension": ".py",
   "mimetype": "text/x-python",
   "name": "python",
   "nbconvert_exporter": "python",
   "pygments_lexer": "ipython3",
   "version": "3.7.4"
  }
 },
 "nbformat": 4,
 "nbformat_minor": 4
}
